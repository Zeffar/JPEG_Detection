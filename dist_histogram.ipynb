{
 "cells": [
  {
   "cell_type": "code",
   "execution_count": 7,
   "outputs": [
    {
     "data": {
      "text/plain": "<Figure size 1000x600 with 1 Axes>",
      "image/png": "[encoded data removed]"
     },
     "metadata": {},
     "output_type": "display_data"
    },
    {
     "ename": "AttributeError",
     "evalue": "'numpy.ndarray' object has no attribute 'count'",
     "output_type": "error",
     "traceback": [
      "\u001B[1;31m---------------------------------------------------------------------------\u001B[0m",
      "\u001B[1;31mAttributeError\u001B[0m                            Traceback (most recent call last)",
      "Cell \u001B[1;32mIn[7], line 54\u001B[0m\n\u001B[0;32m     51\u001B[0m     \u001B[38;5;28mprint\u001B[39m(l)\n\u001B[0;32m     52\u001B[0m     \u001B[38;5;28mprint\u001B[39m(l\u001B[38;5;241m.\u001B[39mindex(\u001B[38;5;28mmax\u001B[39m(l)))\n\u001B[1;32m---> 54\u001B[0m \u001B[43mmost_likely_category\u001B[49m\u001B[43m(\u001B[49m\u001B[38;5;241;43m400\u001B[39;49m\u001B[43m)\u001B[49m\n",
      "Cell \u001B[1;32mIn[7], line 46\u001B[0m, in \u001B[0;36mmost_likely_category\u001B[1;34m(avg_dist)\u001B[0m\n\u001B[0;32m     38\u001B[0m \u001B[38;5;28;01mdef\u001B[39;00m \u001B[38;5;21mmost_likely_category\u001B[39m(avg_dist):\n\u001B[0;32m     39\u001B[0m     \u001B[38;5;66;03m# when I get a new image see which bin it is in\u001B[39;00m\n\u001B[0;32m     40\u001B[0m     \u001B[38;5;66;03m# P(cat1| bin x) = P(binx|cat1)*P(cat1) / P(binx)\u001B[39;00m\n\u001B[1;32m   (...)\u001B[0m\n\u001B[0;32m     43\u001B[0m     \u001B[38;5;66;03m# p1 = nr_binx_cat1/nr_binx_total\u001B[39;00m\n\u001B[0;32m     44\u001B[0m     \u001B[38;5;66;03m# since nr_binx_total is the same for all probabilities, we can just compare the number of images in each bin\u001B[39;00m\n\u001B[0;32m     45\u001B[0m     \u001B[38;5;28mbin\u001B[39m\u001B[38;5;241m=\u001B[39mfind_bin(avg_dist)\n\u001B[1;32m---> 46\u001B[0m     nr_original_in_bin \u001B[38;5;241m=\u001B[39m \u001B[43moriginal_values\u001B[49m\u001B[38;5;241;43m.\u001B[39;49m\u001B[43mcount\u001B[49m(\u001B[38;5;28mbin\u001B[39m)\n\u001B[0;32m     47\u001B[0m     nr_high_in_bin \u001B[38;5;241m=\u001B[39m high_values\u001B[38;5;241m.\u001B[39mcount(\u001B[38;5;28mbin\u001B[39m)\n\u001B[0;32m     48\u001B[0m     nr_medium_in_bin \u001B[38;5;241m=\u001B[39m medium_values\u001B[38;5;241m.\u001B[39mcount(\u001B[38;5;28mbin\u001B[39m)\n",
      "\u001B[1;31mAttributeError\u001B[0m: 'numpy.ndarray' object has no attribute 'count'"
     ]
    }
   ],
   "source": [
    "import math\n",
    "import matplotlib.pyplot as plt\n",
    "import numpy as np\n",
    "\n",
    "\n",
    "original_values = [1000,1200,1100]\n",
    "high_values = [500,600,700]\n",
    "medium_values = [200,100]\n",
    "low_values = [20,30,50]\n",
    "\n",
    "\n",
    "def find_bin(avg_dist):\n",
    "    return math.ceil(logaritmare(avg_dist))\n",
    "\n",
    "def logaritmare(x):\n",
    "    return math.log(x)\n",
    "\n",
    "vfunc = np.vectorize(find_bin)\n",
    "\n",
    "original_values = vfunc(original_values)\n",
    "high_values = vfunc(high_values)\n",
    "medium_values = vfunc(medium_values)\n",
    "low_values = vfunc(low_values)\n",
    "\n",
    "\n",
    "\n",
    "plt.figure(figsize=(10, 6))\n",
    "plt.hist(original_values)\n",
    "plt.hist(high_values)\n",
    "plt.hist(medium_values)\n",
    "plt.hist(low_values)\n",
    "plt.title(\"\")\n",
    "plt.xlabel(\"\")\n",
    "plt.ylabel(\"\")\n",
    "plt.show()\n",
    "\n",
    "\n",
    "def most_likely_category(avg_dist):\n",
    "    # when I get a new image see which bin it is in\n",
    "    # P(cat1| bin x) = P(binx|cat1)*P(cat1) / P(binx)\n",
    "    # greatest prob wins\n",
    "    # p1 = nr_binx_cat1/nr_cat1 * nr_cat1/ nr_all_cat / nr_binx_total * nr_all_cat\n",
    "    # p1 = nr_binx_cat1/nr_binx_total\n",
    "    # since nr_binx_total is the same for all probabilities, we can just compare the number of images in each bin\n",
    "    bin=find_bin(avg_dist)\n",
    "    nr_original_in_bin = (original_values==bin).sum()\n",
    "    nr_high_in_bin = high_values.count(bin)\n",
    "    nr_medium_in_bin = medium_values.count(bin)\n",
    "    nr_min_in_bin = low_values.count(bin)\n",
    "    l=[nr_original_in_bin,nr_high_in_bin,nr_medium_in_bin,nr_min_in_bin]\n",
    "    print(l)\n",
    "    print(l.index(max(l)))\n",
    "    \n",
    "most_likely_category(400)\n"
   ],
   "metadata": {
    "collapsed": false,
    "ExecuteTime": {
     "end_time": "2024-11-11T13:59:01.353001800Z",
     "start_time": "2024-11-11T13:59:01.068656200Z"
    }
   },
   "id": "37e5d3c3fa747077"
  }
 ],
 "metadata": {
  "kernelspec": {
   "display_name": "Python 3",
   "language": "python",
   "name": "python3"
  },
  "language_info": {
   "codemirror_mode": {
    "name": "ipython",
    "version": 2
   },
   "file_extension": ".py",
   "mimetype": "text/x-python",
   "name": "python",
   "nbconvert_exporter": "python",
   "pygments_lexer": "ipython2",
   "version": "2.7.6"
  }
 },
 "nbformat": 4,
 "nbformat_minor": 5
}
